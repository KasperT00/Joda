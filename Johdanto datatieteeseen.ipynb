{
 "cells": [
  {
   "cell_type": "markdown",
   "metadata": {},
   "source": [
    "# Johdanto datatieteeseen\n",
    "\n",
    "**Oppimispäiväkirja**"
   ]
  },
  {
   "cell_type": "markdown",
   "metadata": {},
   "source": [
    "## Luentoviikko 2"
   ]
  },
  {
   "cell_type": "markdown",
   "metadata": {},
   "source": [
    "Liiketoimintatiedon hallinnan kurssilla opimme liiketoimintaan liittyvän tiedon jalostamisesta ja sen kulusta organisaatiossa. Toisella luentoviikolla Johdanto datatieteeseen -kurssilla kävimme esimerkiksi ETL ja DAD-prosessit, joista ETL on aiemmin tuttu. Tässä prosessissa tietoa kerätään (Extract), muunnetaan oikeaan muotoon (Transform) ja ladataan eteenpäin tietovarastoihin (Load). DAD on prosessina samankaltainen, jossa tietoa kerätään ja haetaan, sekä jalostetaan, mutta tämän prosessin tahti on nopeampaa. Näiden eri prosessien avulla kerättyä dataa voidaan hyödyntää analyysissä ja edelleen päätöksenteossa. Itse ymmärsin myös ETL-prosessin tiedon olevan vielä jalostetumpaa, kuin DAD-prosessin tiedon. Tämän oppimispäiväkirjan kappaleen tekoon hyödynsin ensimmäistä luentoa, sekä useita eri stackoverflow tekstejä, sekä scrapy-raapijan dokumentaatio raapijan luomiseen.\n",
    "\n",
    "Erilaisia analyysimenetelmiä esiteltiin luennolla, jotka olivat ennestään tuttuja. Näitä olivat diagnostiivinen, deskriptiivinen, prediktiivinen ja preskriptiivinen unohtamatta eksploratiivista analytiikkaa. Vaikka nämä suommen kieleen väkisin väännetyt sanat kuulostavat vaikealta, on ne helppo muistaa niiden englanninkielen merkityksen kautta. Hauskaksi koin luennolla esitetyn nelikentän, jossa yksi sisällön aiheista oli \"Asiat, joita emme tiedä ja emme tiedä tietävämme\". Tämä on kuitenkin mielestäni yksi tärkeimmistä aiheista, sillä asian tiedostaminen on vaikeaa, jos ei tiedä tiedä, että ei tiedä. Itse en esimerkiksi tiennyt raapijoista ja ryömijöistä ennen tätä kurssia. \n",
    "\n",
    "Raavitaan dataa irti ja ryömitään datamassoissa tulee näistä ensimmäisenä mieleen. Opiskelijoistakin raavittiin jo heti kurssin alussa sen kulusta irti tietoa flingan avulla. Kurssin alussa olikin itselle haastavaa hahmottaa kaikki eri järjestelmät, jonka myös hiljaisesta tiedosta muutin sanalliseksi flingaan. Kehityskohteena olisikin esimerkiksi konkreettisesti luoda lista, jossa kerrotaan suoraan jäjestelmä, sen tarkoitus ja käyttö. Toiseen luentoviikkoon mennessä en vielä tiedä, tulisiko oppimispäivää kirjoittaa Jupyterillä vai esimerkiksi Wordilla. Päädyin, kuitenkin opiskelutoverini kanssa Jupyteriin varmuuden vuoksi. Itseäni harmittaa ettei Jupyterissä ole mahdollisuutta ajaa komentoja konsolin kautta, jonka kohta myös demonstroin. \n",
    "\n",
    "Eniten mieleen toisen luentoviikon luennolta jäi Scrapy mainituista raapijoista. Päätin täten perehtyä raapijoihin ja Scrapy kirjastoon. En kuitenkaan tiennyt, että kyseistä raapijaa käydään läpi myös demo-luennolla. Muutamien ja tusinan tuntien taistelun jälkeen sain asennettua ohjelmistot ja kirjastot, sekä luotua ensimmäisen raapijan. Sovelsin ohjelmistoa K-Ruoka sivustoon, jossa se kerää tietoa hedelmistä ja vihanneksista. Päätin yksinkertaisuuden vuoksi kerätä alkuun ainoastaan tietoa niiden nimistä. Alussa ongelmaksi koitui Jupyter, jossa raapijan pystyi ajamaan ainoastaan kerran, sen konsolin puutteen vuoksi, ennen kuin Kernel oli resetoitava. Useat sivustot myös suosittelivat Scrapy-raapijan suorittamista virtuaalisessa venv-ympäristössä. En tietenkään tätä ohjetta noudattanut, eikä siitä myöhemminkään ole ongelmaa koitunut, mutta aion varmasti siihen myöhemmin tutustua. Monia muitakin ongelmia oli matkan varrella, joista saisi muutaman sivun tekstin aikaiseksi. Alla on koodi kyseistä raapijasta, jonka nimesin syömäni ruuan mukaan \"Pasta\" -nimiseksi. Koodin toteuttaminen olisi varmasti ollut helpompaa vasta demo-session jälkeen, mutta koen kuitenkin oppineen huomattavasti enemmän tehtyäni sen itse. "
   ]
  },
  {
   "cell_type": "code",
   "execution_count": null,
   "metadata": {},
   "outputs": [],
   "source": [
    "import scrapy\n",
    "class Pasta(scrapy.Spider):    \n",
    "    name = \"Pasta\"     \n",
    "    start_urls = [\n",
    "        'https://www.k-ruoka.fi/kauppa/tuotehaku/hedelmat-ja-vihannekset', \n",
    "    ]\n",
    "    def parse(self, response):     #Prosessoi ja palauttaa raavitun datan\n",
    "        for tuote in response.css('li.bundle-list-item'):  # Sivun tuotteiden osoite\n",
    "            texti = tuote.css('span::text').get()# Tämä on siellä tuotetiedon sisällä ja se on se teksti osa\n",
    "            yield {'tuote':texti} \n"
   ]
  },
  {
   "cell_type": "markdown",
   "metadata": {},
   "source": [
    "Yllä esitetty \"Pasta\"-ryömiijä voi kerätä tietoa sille annetuista osoitteista, mutta eri sivujen elementtien tiedot on sille kerrottava. Luomani ryömijä ei kuitenkaan pysty lukemaan esimerkiksi esimerkissä olevaa sivua kokonaan, sillä se on dynaaminen ja latautuu samalla sivua selatessa. Aion kuitenkin löytää tähän ratkaisun ja saada ryömijä toimimaan myös dynaamisilla sivuilla, sekä menemään seuraaville sivuille. \n",
    "\n",
    "Tällä luentoviikolla opin\n",
    "- Tiedon jalostamisen eri menetelmiä ja prosesseja\n",
    "- Tiedon analyysin käsitteistöä ja menetelmiä\n",
    "- Raapijat ja ryömijät tiedon hankinnassa\n",
    "- Luomaan yksinkertaisen scrapy-kirjastoon pohjautuvan ryömijän\n",
    "- Lukemaan dokumentaatioita kirjastoista\n",
    "\n"
   ]
  },
  {
   "cell_type": "code",
   "execution_count": null,
   "metadata": {},
   "outputs": [],
   "source": [
    "        screen_height = self.driver.execute_script('return window.screen.height;')\n",
    "        i = 1\n",
    "        while True: # Täsä skrollataa sivua, että se latautuu\n",
    "            self.driver.execute_script(\"window.scrollTo(0, {screen_height}*{i})\".format(screen_height = screen_height, i=i))\n",
    "            i += 1\n",
    "            time.sleep(0.2)\n",
    "            scroll_height = self.driver.execute_script(\"return document.body.scrollHeight;\")\n",
    "            if (screen_height) * i > scroll_height:\n",
    "                break "
   ]
  },
  {
   "cell_type": "code",
   "execution_count": null,
   "metadata": {},
   "outputs": [],
   "source": [
    "    def __init__(self):\n",
    "        self.driver = webdriver.Chrome('C:/Users/kaspe/Documents/Koulu/Muita/chromedriver_win32/chromedriver.exe')\n",
    "        self.driver.get('https://www.verkkokauppa.com/fi/catalog/22a/Puhelimet/products?pageNo=84')"
   ]
  },
  {
   "cell_type": "code",
   "execution_count": null,
   "metadata": {},
   "outputs": [],
   "source": [
    "        self.driver.execute_script(\"window.scrollBy(0, -2000)\")\n",
    "        time.sleep(1)\n",
    "        if self.driver.find_element_by_xpath('.//div/button[@aria-label=\"Seuraava sivu\"]'):\n",
    "            self.driver.find_element_by_xpath('.//div/button[@aria-label=\"Seuraava sivu\"]').click()\n",
    "            time.sleep(2)\n",
    "            currentURL = self.driver.current_url\n",
    "            yield scrapy.Request(currentURL, callback=self.parse)\n",
    "        else:\n",
    "            self.driver.quit()"
   ]
  },
  {
   "cell_type": "markdown",
   "metadata": {},
   "source": [
    "## Luentoviikko3"
   ]
  },
  {
   "cell_type": "markdown",
   "metadata": {},
   "source": [
    "Aloin miettimään koneoppimisen ja tekoälyn suhdetta ja pohdin, että mielestäni koneoppiminen on osa tekoälyä ja toisaalta se voi olla tarvittava tekoälyn muoto. Wikipedia (2020) määrittää koneoppimisen tekoälyn osa-alueena, jossa sen tavoite on muuttaa toimintaansa aiempaa paremmaksi saatujen tietojen ja käyttäjien käytön kautta. Aiemmin olen pohtinut, kuinka tekoälyn voisi itse rakentaa ja sen soveltamista. Sovelluksen kohteena voisi olla esimerkiksi arkisten rutiinien ennakoiminen eri vuodenaikoina vaikka automaattisten verhojen avaamisessa ja kahvin keittämisessä. Nyt kolmannen viikon luennon jälkeen, mietin opeteltuja kirjastoja ja niiden hyödyntämistä, jolloin voisin kuvitteellisessa esimerkissä kerätä dataa arkisista toimista, syöttää ne automatisoidusti koneoppimisen algoritmille, joka voi jatkossa ennustaa aiempaa paremmin. Voisin jopa kuvitella pystyväni rakentamaan tällaisen systeemin. Toinen koneeoppimisen hyödyntämisen kohde, josta haaveilen olisi sijoittaminen. Voisiko ohjelma kerätä tietoa ja avainsanoja uutisiista ja muista lähteistä, tietoa kellonajoista ja yhdistää nämä osakkeen hinnan ennustamiseksi? Ehkä jopa luoda riskitason, jolla sijoittaminen sen ennustuksen perusteella kannattaa tehdä. \n",
    "\n",
    "Kolmannella viikolla osallistuin sekä teoria- että demo-luennolle. Hyödynsin myös erilaisia lähteitä parantaessani aiempaa Pasta-ryömijää. uudeksi elementiksi koodiin astui kirjasto selenium, jonka avulla voidaan luoda sivustoajuri, joka ajaa verkkosivun ja esimerkiksi rullaa sivun läpi, jolloin dynaaminen sivu saadaan ladattua kokonaan. Löysin myös Jupyterista mahdollisuuden avata konsolin, mutta huomasin koodin ajamisen anacondan omalla konsolilla helpommaksi. Pääaiheena tällä viikolla oli kuitenkin koneoppiminen. Koneoppimisessa erotetaan ei-siivotusta datasta siis piirteitä, kuten toistuvia kaavoja ja ennustavia muuttujia, jotka ennustavat mallia ja ennustettavaa muuttujaa. Koneoppimisessa olisi luennon mukaan mahdollista luoda eri piirteistä esimerkiksi matriisi ja luoda malli, sekä ennustaa mallilla. Uutena koneoppimisen kirjastona esiteltiin SciPy ohimennen, johon olisi kiinnostava tutustua. Koneoppiminen voidan nähdä osittain ohjattuna oppimisena, sillä se kuitenkin vaatii osittain kommunikointia manuaalisesti. \n",
    "\n",
    "Mietin kolmannella luentoviikolla, tulisiko luoda oma datasetti harjoitustyötä varten, vai tyytyä valmiisen Airbnb tarjontaan. Kyselin tästä myös kurssilla ja mahdollista olisi esimerkiksi kerätä dataa tuotteesta ja sen arvosteluista, jonka perusteella ennnustettaisiin tuotteen hintaa. Tämän myös toteutin hydyntäen selenium kirjastoa ja pystyin ryömijällä keräämään esimerkiksi verkkokauppa.com sivustin tuotteiden hintoja, nimiä ja arvosteluja. Päätin soveltaa luennolla esitettyä nltk-kirjastoa ja tehdä arviointeihin liittyvää analyysiä. Ensin olen koodissa tuonut ja asentanut kirjastot sekä \"stopword\"-hukkasanat. Tämän jälkeen olen ottanut kaikki verkkokaupan puhelimien arvostelut ja luonut niistä yhden merkkijonon ja tehnyt siihen hukkasanojenn poiston. Saatu kaavio näyttää sanat ja niiden lukumäärän. Nähdään esimerkiksi, että kamera-sana on esiintynyt hyvin monta kertaa, joten voidaan sen sanoa olevan merkityksellinen puhelinta valittaessa. \n"
   ]
  },
  {
   "cell_type": "code",
   "execution_count": 32,
   "metadata": {
    "collapsed": true,
    "jupyter": {
     "outputs_hidden": true,
     "source_hidden": true
    }
   },
   "outputs": [
    {
     "name": "stderr",
     "output_type": "stream",
     "text": [
      "[nltk_data] Downloading package punkt to\n",
      "[nltk_data]     C:\\Users\\kaspe\\AppData\\Roaming\\nltk_data...\n",
      "[nltk_data]   Package punkt is already up-to-date!\n",
      "[nltk_data] Downloading package stopwords to\n",
      "[nltk_data]     C:\\Users\\kaspe\\AppData\\Roaming\\nltk_data...\n",
      "[nltk_data]   Package stopwords is already up-to-date!\n"
     ]
    }
   ],
   "source": [
    "import nltk\n",
    "import csv\n",
    "nltk.download('punkt')\n",
    "nltk.download('stopwords')\n",
    "from nltk.tokenize import word_tokenize\n",
    "from nltk.corpus import stopwords\n",
    "import matplotlib.pyplot as plt\n",
    "from nltk.probability import FreqDist"
   ]
  },
  {
   "cell_type": "code",
   "execution_count": 33,
   "metadata": {
    "jupyter": {
     "source_hidden": true
    }
   },
   "outputs": [],
   "source": [
    "arviot = \"\"\n",
    "with open(\"arvostelutA10.csv\", 'r',encoding='utf-8') as tiedosto:\n",
    "    lukija = csv.reader(tiedosto, delimiter=',')\n",
    "    next(lukija)\n",
    "    for rivit in lukija:\n",
    "        if(rivit[2] != '-'):\n",
    "            arviot = arviot + (rivit[2])"
   ]
  },
  {
   "cell_type": "code",
   "execution_count": 34,
   "metadata": {},
   "outputs": [
    {
     "data": {
      "image/png": "[encoded data removed]",
      "text/plain": [
       "<Figure size 432x288 with 1 Axes>"
      ]
     },
     "metadata": {
      "needs_background": "light"
     },
     "output_type": "display_data"
    }
   ],
   "source": [
    "arvio=word_tokenize(arviot)\n",
    "sallitut=set(stopwords.words(\"finnish\"))\n",
    "putsatut =[]\n",
    "for sana in arvio:\n",
    "    if sana not in sallitut:\n",
    "        putsatut.append(sana)\n",
    "putsatut =[sana.lower() for sana in putsatut if sana.isalpha()]\n",
    "fd = FreqDist(putsatut)\n",
    "fd.plot(30,cumulative=False)\n",
    "plt.show()"
   ]
  },
  {
   "cell_type": "markdown",
   "metadata": {},
   "source": [
    "## Luentoviikko 4"
   ]
  },
  {
   "cell_type": "markdown",
   "metadata": {},
   "source": []
  }
 ],
 "metadata": {
  "celltoolbar": "Edit Metadata",
  "kernelspec": {
   "display_name": "Python 3",
   "language": "python",
   "name": "python3"
  },
  "language_info": {
   "codemirror_mode": {
    "name": "ipython",
    "version": 3
   },
   "file_extension": ".py",
   "mimetype": "text/x-python",
   "name": "python",
   "nbconvert_exporter": "python",
   "pygments_lexer": "ipython3",
   "version": "3.8.5"
  }
 },
 "nbformat": 4,
 "nbformat_minor": 4
}
